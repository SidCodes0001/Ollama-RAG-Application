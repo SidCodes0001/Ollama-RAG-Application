{
  "cells": [
    {
      "cell_type": "code",
      "execution_count": null,
      "id": "0815e5b3-f2d7-4c84-847b-e60a44a69205",
      "metadata": {
        "id": "0815e5b3-f2d7-4c84-847b-e60a44a69205"
      },
      "outputs": [],
      "source": [
        "!pip install -q langchain langchain-openai pypdf chromadb transformers"
      ]
    },
    {
      "cell_type": "code",
      "execution_count": null,
      "id": "ceb30c53-7eae-449e-a9dd-82156c145045",
      "metadata": {
        "id": "ceb30c53-7eae-449e-a9dd-82156c145045"
      },
      "outputs": [],
      "source": [
        "# Loading required libraries\n",
        "import os\n",
        "\n",
        "from langchain.text_splitter import RecursiveCharacterTextSplitter\n",
        "from langchain_community.document_loaders import PyPDFLoader\n",
        "from langchain_community.vectorstores import Chroma\n",
        "from langchain.chains import RetrievalQA\n",
        "from langchain.memory import ConversationBufferMemory\n",
        "from langchain_openai import OpenAIEmbeddings\n",
        "from langchain.prompts import PromptTemplate\n",
        "from langchain import HuggingFaceHub\n",
        "from langchain.llms import Ollama"
      ]
    },
    {
      "cell_type": "markdown",
      "id": "d0d9b7e0-28ba-4d8a-829d-76fedadb7779",
      "metadata": {
        "id": "d0d9b7e0-28ba-4d8a-829d-76fedadb7779"
      },
      "source": [
        "First we will create our vector database and add our documents, you can use any but I'm using chroma."
      ]
    },
    {
      "cell_type": "code",
      "execution_count": null,
      "id": "8968fc91-9b5e-4b5a-ba0f-24cf7ac0fce0",
      "metadata": {
        "id": "8968fc91-9b5e-4b5a-ba0f-24cf7ac0fce0"
      },
      "outputs": [],
      "source": [
        "data_path = \"./data/Elden_Ring.pdf\""
      ]
    },
    {
      "cell_type": "markdown",
      "id": "37ab0f29-166e-4fca-992a-dffa7399b424",
      "metadata": {
        "id": "37ab0f29-166e-4fca-992a-dffa7399b424"
      },
      "source": [
        "First we define the text splitter and add our pdf to the vector Database, I'll use OpenAI Embeddings, but you can use any embedding model."
      ]
    },
    {
      "cell_type": "code",
      "execution_count": null,
      "id": "eea271f7-35c5-49c1-b563-00c61ac4f2c0",
      "metadata": {
        "id": "eea271f7-35c5-49c1-b563-00c61ac4f2c0"
      },
      "outputs": [],
      "source": [
        "embedding_func = OpenAIEmbeddings(api_key=os.environ.get(\"OPENAI_API_KEY\"))"
      ]
    },
    {
      "cell_type": "code",
      "execution_count": null,
      "id": "23d75330-afd2-4419-9590-97722ec68eef",
      "metadata": {
        "id": "23d75330-afd2-4419-9590-97722ec68eef"
      },
      "outputs": [],
      "source": [
        "text_splitter = RecursiveCharacterTextSplitter(\n",
        "    chunk_size=2000,\n",
        "    chunk_overlap=30,\n",
        "    length_function=len,)"
      ]
    },
    {
      "cell_type": "code",
      "execution_count": null,
      "id": "1bdbcc8d-cf72-4b83-90bb-bfe062a17857",
      "metadata": {
        "id": "1bdbcc8d-cf72-4b83-90bb-bfe062a17857"
      },
      "outputs": [],
      "source": [
        "documents = PyPDFLoader(data_path).load_and_split(text_splitter=text_splitter)"
      ]
    },
    {
      "cell_type": "code",
      "execution_count": null,
      "id": "c3e8c171-0df3-441b-86af-4723ffea9790",
      "metadata": {
        "id": "c3e8c171-0df3-441b-86af-4723ffea9790",
        "outputId": "f0654517-078c-484a-8b0e-e3ebd64c9140"
      },
      "outputs": [
        {
          "name": "stdout",
          "output_type": "stream",
          "text": [
            "Shoi Miyazawa\n",
            "Tai Tomisawa\n",
            "Yuka Kitamura\n",
            "Yoshimi Kudo\n",
            "P l a t f o r m ( s ) PlayStation 4\n",
            "PlayStation 5\n",
            "Windows\n",
            "Xbox One\n",
            "Xbox Series X/S\n",
            "R e l e a s e February 25,\n",
            "2022\n",
            "G e n r e ( s ) Action role-\n",
            "playing\n",
            "M o d e ( s ) Single-player,\n",
            "multiplayer\n",
            "The player character fighting a\n",
            "dragon while riding Torrent, their\n",
            "steedsix main areas, which\n",
            "include Limgrave—an area\n",
            "of grassy plains and ancient\n",
            "ruins—and Caelid, a\n",
            "wasteland that is home to\n",
            "unde ad monsters.[1] The\n",
            "open world is explored\n",
            "using the character's mount\n",
            "Torrent as the main mode\n",
            "of transportation, though\n",
            "players may use fast travel\n",
            "outside combat.\n",
            "Throughout  the game, players encounter non-player characters\n",
            "(NPCs) and enemies, including demigods  who rule each main area\n",
            "and serve as the game's main bosses.[2][3] Aside from the main\n",
            "areas, Elden Ring has hidden dunge ons, catacombs, tunne ls, and\n",
            "caves where players can fight bosses and ga ther helpful items.[4]\n",
            "At the game's start, the player choos es a character class, which\n",
            "determines their starting spells, equipment, and attributes.[5]\n",
            "Combat with enemies can be within melee, or from a distance using ranged weapons. Enemy attacks can be\n",
            "dodge d or blocked using shields. Spells allow players to enhance their weapons, fight enemies from afar,\n",
            "and restore lost hit points. The player can memorize a limited amount of these spells, which can be cast\n",
            "using a staff or sacred seal item.[6][7] Weapons can be improved using ashes of war, which are obtainable\n",
            "\"enchantments\" that grant weapons  new capabilities. Ashes of war can be applied to or removed from\n",
            "weapons , and each Ash adds a weapon art, a special ability that can be used during combat.[8] Aside from\n",
            "direct combat, stealth mechanics can be used to avoid enemies or allow the targeting of foes with critical\n",
            "hits while hidden.[9][10]\n",
            "Checkpoints called sites of grace are located through out the game; in these places, characters can increase\n"
          ]
        }
      ],
      "source": [
        "print(documents[2].page_content)"
      ]
    },
    {
      "cell_type": "code",
      "execution_count": null,
      "id": "c78f63d4-6eae-480a-9dff-4d8f16c905a4",
      "metadata": {
        "id": "c78f63d4-6eae-480a-9dff-4d8f16c905a4"
      },
      "outputs": [],
      "source": [
        "vectordb = Chroma.from_documents(documents, embedding=embedding_func)"
      ]
    },
    {
      "cell_type": "markdown",
      "id": "977db875-bd4a-49d7-a06e-31df90412824",
      "metadata": {
        "id": "977db875-bd4a-49d7-a06e-31df90412824"
      },
      "source": [
        "Now we define a prompt template"
      ]
    },
    {
      "cell_type": "code",
      "execution_count": null,
      "id": "4fc697cb-f490-462e-b94a-1abbc6bf705c",
      "metadata": {
        "id": "4fc697cb-f490-462e-b94a-1abbc6bf705c"
      },
      "outputs": [],
      "source": [
        "template = \"\"\"<s>[INST] Given the context - {context} </s>[INST] [INST] Answer the following question - {question}[/INST]\"\"\"\n",
        "pt = PromptTemplate(\n",
        "            template=template, input_variables=[\"context\", \"question\"]\n",
        "        )"
      ]
    },
    {
      "cell_type": "markdown",
      "id": "bb302000-c9ac-407b-be12-a871316486bd",
      "metadata": {
        "id": "bb302000-c9ac-407b-be12-a871316486bd"
      },
      "source": [
        "Now we are all set to create our RAG, all we need to do is create a memeory and pass the vectordb as a retriever"
      ]
    },
    {
      "cell_type": "markdown",
      "id": "d7baf7d8-ac98-40e0-bd82-9dad2851ece8",
      "metadata": {
        "id": "d7baf7d8-ac98-40e0-bd82-9dad2851ece8"
      },
      "source": [
        "You should have Ollama running, to set up ollama you can go to https://ollama.com/. Its pretty simple."
      ]
    },
    {
      "cell_type": "code",
      "execution_count": null,
      "id": "c5ee5ce2-b88e-4baf-b1a6-c43b1b9f1044",
      "metadata": {
        "id": "c5ee5ce2-b88e-4baf-b1a6-c43b1b9f1044"
      },
      "outputs": [],
      "source": [
        "rag = RetrievalQA.from_chain_type(\n",
        "            llm=Ollama(model=\"mistral\"),\n",
        "            retriever=vectordb.as_retriever(),\n",
        "            memory=ConversationSummaryMemory(llm = Ollama(model=\"mistral\")),\n",
        "            chain_type_kwargs={\"prompt\": pt, \"verbose\": True},\n",
        "        )"
      ]
    },
    {
      "cell_type": "code",
      "execution_count": null,
      "id": "28aa8c98-7244-4ae7-a173-fe9143ba1779",
      "metadata": {
        "id": "28aa8c98-7244-4ae7-a173-fe9143ba1779",
        "outputId": "495586ed-86d0-4f9a-c5ea-ad88268d77e1"
      },
      "outputs": [
        {
          "name": "stdout",
          "output_type": "stream",
          "text": [
            "\n",
            "\n",
            "\u001b[1m> Entering new StuffDocumentsChain chain...\u001b[0m\n",
            "\n",
            "\n",
            "\u001b[1m> Entering new LLMChain chain...\u001b[0m\n",
            "Prompt after formatting:\n",
            "\u001b[32;1m\u001b[1;3m<s>[INST] Given the context - Shoi Miyazawa\n",
            "Tai Tomisawa\n",
            "Yuka Kitamura\n",
            "Yoshimi Kudo\n",
            "P l a t f o r m ( s ) PlayStation 4\n",
            "PlayStation 5\n",
            "Windows\n",
            "Xbox One\n",
            "Xbox Series X/S\n",
            "R e l e a s e February 25,\n",
            "2022\n",
            "G e n r e ( s ) Action role-\n",
            "playing\n",
            "M o d e ( s ) Single-player,\n",
            "multiplayer\n",
            "The player character fighting a\n",
            "dragon while riding Torrent, their\n",
            "steedsix main areas, which\n",
            "include Limgrave—an area\n",
            "of grassy plains and ancient\n",
            "ruins—and Caelid, a\n",
            "wasteland that is home to\n",
            "unde ad monsters.[1] The\n",
            "open world is explored\n",
            "using the character's mount\n",
            "Torrent as the main mode\n",
            "of transportation, though\n",
            "players may use fast travel\n",
            "outside combat.\n",
            "Throughout  the game, players encounter non-player characters\n",
            "(NPCs) and enemies, including demigods  who rule each main area\n",
            "and serve as the game's main bosses.[2][3] Aside from the main\n",
            "areas, Elden Ring has hidden dunge ons, catacombs, tunne ls, and\n",
            "caves where players can fight bosses and ga ther helpful items.[4]\n",
            "At the game's start, the player choos es a character class, which\n",
            "determines their starting spells, equipment, and attributes.[5]\n",
            "Combat with enemies can be within melee, or from a distance using ranged weapons. Enemy attacks can be\n",
            "dodge d or blocked using shields. Spells allow players to enhance their weapons, fight enemies from afar,\n",
            "and restore lost hit points. The player can memorize a limited amount of these spells, which can be cast\n",
            "using a staff or sacred seal item.[6][7] Weapons can be improved using ashes of war, which are obtainable\n",
            "\"enchantments\" that grant weapons  new capabilities. Ashes of war can be applied to or removed from\n",
            "weapons , and each Ash adds a weapon art, a special ability that can be used during combat.[8] Aside from\n",
            "direct combat, stealth mechanics can be used to avoid enemies or allow the targeting of foes with critical\n",
            "hits while hidden.[9][10]\n",
            "Checkpoints called sites of grace are located through out the game; in these places, characters can increase\n",
            "\n",
            "Elden Ring\n",
            "D e v e l o p e r ( s ) FromSoftware\n",
            "P u b l i s h e r ( s ) Bandai Namco\n",
            "Entertainment\n",
            "JP:\n",
            "FromSoftware\n",
            "D i r e c t o r ( s ) Hidetaka\n",
            "Miyazaki\n",
            "P r o d u c e r ( s ) Yuzo Kojima\n",
            "D e s i g n e r ( s ) Yosuke\n",
            "Kayugawa\n",
            "Ryu Matsumoto\n",
            "P r o g r a m m e r ( s )Takeshi Suzuki\n",
            "Yuki Kido\n",
            "A r t i s t ( s ) Hidenori Sato\n",
            "Ryo Fujimaki\n",
            "W r i t e r ( s ) Hidetaka\n",
            "Miyazaki\n",
            "George R. R.\n",
            "Martin\n",
            "C o m p o s e r ( s ) Tsukasa SaitohElden Ring\n",
            "Elden Ring[a] is a 2022  action role-playing game developed by\n",
            "FromSoftware. It was directed by Hidetaka Miyazaki with\n",
            "worldbuilding provided by fantasy writer George R. R. Martin. It\n",
            "was published for PlayStation 4, PlayStation 5, Window s, Xbox\n",
            "One, and Xbox Series X/S on February 25 by FromSoftware in\n",
            "Japan and Bandai Namco Entertainment internationally. Players\n",
            "control a customizable player character who is on a quest to repair\n",
            "the Elden Ring and be come the new Elden Lord.\n",
            "Elden Ring is presented through a third-person perspective; players\n",
            "freely roam its interactive open world. The six main areas are\n",
            "traversed using the player character's steed Torrent as the primary\n",
            "mode of travel. Linear, hidden dunge ons can be explored to find\n",
            "useful items. Players can use several types of weapons  and magic\n",
            "spells, including non-direct engagement enabled by stealth\n",
            "mechanics. Through out the game's world, checkpoints enable fast\n",
            "travel and allow players to improve their attributes using an in-\n",
            "game currency called runes. Elden Ring features an online\n",
            "multiplayer mode in which players join through coope rative play to\n",
            "fight bosses or engage player-versus-player combat.\n",
            "FromSoftware wanted to create an open-world game based on\n",
            "Dark Souls. Miyazaki admired Martin's previous work, and hope d\n",
            "that his contributions would produc e a more accessible narrative\n",
            "than those of the company's earlier games. Martin was given\n",
            "unrestricted freedom to design the backstory while Miyazaki was\n",
            "lead writer for the in-game narrative. The developers concentrated\n",
            "\n",
            "Eternal Champion as inspirations for the game's story.[34][35] Tsukasa Saitoh, Shoi Miyazawa, Tai\n",
            "Tomisawa, Yuka Kitamura, and Yoshimi Kudo c omposed Elden Ring's original soundt rack.[36]\n",
            "Elden Ring was revealed during an Xbox games conference at E3 2019 .[37][38] Some information about the\n",
            "game had previously been leaked online due to a vulnerability of the servers at Bandai Namco\n",
            "Entertainment.[39] Elden Ring was widely anticipated on announc ement but no further material was\n",
            "released until a trailer was shown in June 2021.[40] Playtesting was facilitated by Bandai Namco, which in\n",
            "November 2021 initially released the game as a closed beta that players could sign up to test.[41] The\n",
            "game's full release was scheduled for January 21, 2022, but was postpone d to February 25 the same\n",
            "year.[42][43] Elden Ring had performance issues at launch; players complained of an insufficient frame\n",
            "rate.[44][45] Bandai Namco addressed some of these problems through software patches and upda tes.[46][47]\n",
            "In February 2023, an expansion called Shadow  of the Erdtree was announc ed for release at a later date.[48]\n",
            "A trailer for the expansion was launched on February 21, 2024, announc ing a release date for June 21,\n",
            "2024.[49]\n",
            "Reception\n",
            "Aggregate score\n",
            "A g g r e g a t o r S c o r e\n",
            "MetacriticPC: 94/100[50]\n",
            "PS5: 96/100[51]\n",
            "XSXS: 96/100[52]Reception\n",
            "\n",
            "on environmental scale, role-playing, and the story; the scale\n",
            "required the construction of several structures inside the open\n",
            "world.\n",
            "Elden Ring received critical acclaim for its open world, gameplay\n",
            "systems, and setting, with some criticism for its technical\n",
            "performance. It won several Game of the Year awards and sold\n",
            "over 20 million copies. A downloadable content expansion,\n",
            "Shadow  of the Erdtree, is planned to be released in June 2024.\n",
            "Elden Ring is an action role-playing game, set in third-person\n",
            "perspective. It includes elements that are similar to those in other\n",
            "FromSoftware-developed games such as the Dark Souls series,\n",
            "Bloodbor ne, and Sekiro: Shadow s Die Twice. The game is set in an\n",
            "open world; players can freely explore the Lands Between and itsGameplay </s>[INST] [INST] Answer the following question - What is Elden Ring ?[/INST]\u001b[0m\n",
            "\n",
            "\u001b[1m> Finished chain.\u001b[0m\n",
            "\n",
            "\u001b[1m> Finished chain.\u001b[0m\n"
          ]
        },
        {
          "data": {
            "text/plain": [
              "{'query': 'What is Elden Ring ?',\n",
              " 'history': '',\n",
              " 'result': ' Elden Ring is a 2022 action role-playing game developed by FromSoftware. It was published for PlayStation 4, PlayStation 5, Windows, Xbox One, and Xbox Series X/S. In the game, players control a customizable character on a quest to repair the Elden Ring and become the new Elden Lord. The game is set in an open world, presented through a third-person perspective, and includes several types of weapons and magic spells. Players can traverse the six main areas using their steed Torrent and discover linear hidden dungeons and checkpoints that enable fast travel and attribute improvements. Elden Ring features online multiplayer mode for cooperative play or player-versus-player combat. The game was developed with inspirations from Dark Souls series, and contributions from George R.R. Martin on the narrative and Tsukasa Saitoh, Shoi Miyazawa, Tai Tomisawa, Yuka Kitamura, and Yoshimi Kudo for the original soundtrack. Elden Ring received critical acclaim for its open world, gameplay systems, and setting, with some criticism for technical performance. It sold over 20 million copies and a downloadable content expansion, Shadow of the Erdtree, is planned to be released in June 2024.'}"
            ]
          },
          "execution_count": 16,
          "metadata": {},
          "output_type": "execute_result"
        }
      ],
      "source": [
        "rag.invoke(\"What is Elden Ring ?\")"
      ]
    },
    {
      "cell_type": "code",
      "execution_count": null,
      "id": "c9f1fcfa-4374-408f-b594-6e4efba42062",
      "metadata": {
        "id": "c9f1fcfa-4374-408f-b594-6e4efba42062",
        "outputId": "5dd4c010-8624-4e56-ddc8-44fae2739444"
      },
      "outputs": [
        {
          "name": "stdout",
          "output_type": "stream",
          "text": [
            "\n",
            "\n",
            "\u001b[1m> Entering new StuffDocumentsChain chain...\u001b[0m\n",
            "\n",
            "\n",
            "\u001b[1m> Entering new LLMChain chain...\u001b[0m\n",
            "Prompt after formatting:\n",
            "\u001b[32;1m\u001b[1;3m<s>[INST] Given the context - Elden Ring winning Game of the Year\n",
            "at the 23rd Game Developers Choice\n",
            "AwardsSome reviewers criticized a number of the game's menu and accessibility systems.[84][85] Reviewers\n",
            "complained about the poor performance of the Window s version; framerate issues were commonly\n",
            "mentioned.[81][86] Reviewers noted the story of Elden Ring lacks Martin's writing style. Kyle Orland of Ars\n",
            "Technica said the game's storytelling is \"characteristically sparse and cryptic\", and differs from the\n",
            "expectations of Martin's fans.[76] Chris Carter of Destructoid called the story \"low key\" but said it is better-\n",
            "told than those of previous FromSoftware games.[80] Aoife Wilson of Eurogam er said George R. R.\n",
            "Martin's heavy inclusion in the marketing was \"baffling\" when his contributions to the overall narrative\n",
            "were unclear.[72] Mitchell Saltzman did not mind the lack of Martin's style, saying the side-stories rather\n",
            "than any gr and, ove rarching pl ot kept him \"enthralled\".[70]\n",
            "Elden Ring sold 13.4 million copies worldwide by the end of March 2022,[87] and 20 million by February\n",
            "2023.[88] It was the best-selling game in several regions between February and March 2022,[89][90] and is\n",
            "the fastest-selling Bandai Namco game of all time.[91][92] It was the second-bestselling game of 2022 in the\n",
            "US after Call of Duty: Modern Warfare II,[93] the third-bestselling in Europe,[94] and the tenth-bestselling in\n",
            "Japan at retail.[95]\n",
            "Elden Ring won many awards and accolades. It was listed as the\n",
            "2022' s Game of the Year by several publications, including Ars\n",
            "Technica,[96] Destructoid,[97] EGM,[98] Eurogam er,[99] Game\n",
            "Informer,[100] GamesRadar +,[101] GameSpot,[102] IGN,[103] PC\n",
            "Gamer,[104] and Polygon.[105] It is among the most awarded games\n",
            "in history with 324 G ame of the Year awards.[106][107]S a l e s\n",
            "A w a r d s\n",
            "\n",
            "Tin Pan Alley Award for\n",
            "Best Music in a GameNominated\n",
            "The Steam\n",
            "AwardsJanuary 3, 2023Game of the Year Won\n",
            "[132]\n",
            "Best Game You Suck At Won\n",
            "The Streamer\n",
            "AwardsMarch 11, 2023Stream Game of the\n",
            "YearWon[133]\n",
            "1. Sawyer, Will; Franey, Joel (April 8, 2022). \"Where Elden Ring takes place and the story\n",
            "explained\" (https://www.gamesradar.com/elden-ring-where-does-it-take-place-setting-story-l\n",
            "ore/). gamesradar. Archived (https://web.archive.org/web/20220402212714/https://www.gam\n",
            "esradar.com/elden-ring-where-does-it-take-place-setting-story-lore/) from the original on April\n",
            "2, 2022. Retrieved July 26, 2022.\n",
            "2. Knapp, Mark (June 16, 2021). \"Elden Ring: Release Date, Gameplay, and What We Know\n",
            "So Far\" (https://www.ign.com/articles/elden-ring-release-date-news-gameplay-trailer-story).\n",
            "IGN. Ziff Davis. Archived (https://web.archive.org/web/20220303124310/https://www.ign.co\n",
            "m/articles/elden-ring-release-date-news-gameplay-trailer-story) from the original on March 3,\n",
            "2022. Retrieved July 6, 2021.\n",
            "3. Saltzman, Mitchell (June 14, 2021). \"Elden Ring: The Big Hidetaka Miyazaki Interview -\n",
            "Summer of Gaming\" (https://www.ign.com/articles/elden-ring-miyazaki-hidetaka-full-interview\n",
            "-summer-of-gaming). IGN. Ziff Davis. Archived (https://web.archive.org/web/2021061414233\n",
            "8/https://www.ign.com/articles/elden-ring-miyazaki-hidetaka-full-interview-summer-of-gamin\n",
            "g) from the original on June 14, 2021. Retrieved July 6, 2021.\n",
            "4. James, Sarah; Martin, Sean Martin (March 10, 2022). \"Elden Ring dungeons: Where to find\n",
            "them and how to complete them\" (https://www.pcgamer.com/elden-ring-dungeons-locations-\n",
            "guide/). PC Gamer. Archived (https://web.archive.org/web/20220321221318/https://www.pcg\n",
            "amer.com/elden-ring-dungeons-locations-guide/) from the original on March 21, 2022.\n",
            "Retrieved July 26, 2022.\n",
            "5. Morton, Lauren (March 3, 2022). \"Which class to choose in Elden Ring\" (https://www.pcgame\n",
            "r.com/all-elden-ring-classes-origins/). PC Gamer. Archived (https://web.archive.org/web/2022\n",
            "\n",
            "120. Mejia, Ozzie (January 26, 2023). \"Elden Ring & Stray lead Game Developers Choice\n",
            "Awards 2023 nominees\" (https://www.shacknews.com/article/133863/gdc-2023-award-nomi\n",
            "nees). Shacknews. Archived (https://web.archive.org/web/20230127040625/https://www.sha\n",
            "cknews.com/article/133863/gdc-2023-award-nominees) from the original on January 27,\n",
            "2023. Retrieved January 27, 2023.\n",
            "121. Beth Elderkin (March 22, 2023). \"'Elden Ring' Wins Game Of The Year At The 2023 Game\n",
            "Developers Choice Awards\" (https://gdconf.com/news/elden-ring-wins-game-year-2023-gam\n",
            "e-developers-choice-awards). Game Developers Choice Conference. Archived (https://web.\n",
            "archive.org/web/20230323091858/https://gdconf.com/news/elden-ring-wins-game-year-2023\n",
            "-game-developers-choice-awards) from the original on March 23, 2023. Retrieved March 23,\n",
            "2023.\n",
            "122. \"gamescom award 2021: These were the best games of the year\" (https://www.gamescom.gl\n",
            "obal/en/gamescom/gamescom-award/gamescom-award-review-2021). Gamescom.\n",
            "Archived (https://web.archive.org/web/20230306061920/https://www.gamescom.global/en/g\n",
            "amescom/gamescom-award/gamescom-award-review-2021) from the original on March 6,\n",
            "2023. Retrieved March 6, 2023.\n",
            "123. \"Voting is live for the Golden Joystick Awards 2020 nominations\" (https://www.gamesradar.c\n",
            "om/golden-joystick-awards-2020-nominations/). GamesRadar+. October 1, 2020. Archived (h\n",
            "ttps://web.archive.org/web/20201001220958/https://www.gamesradar.com/golden-joystick-a\n",
            "wards-2020-nominations/) from the original on October 1, 2020. Retrieved January 10, 2022.\n",
            "124. Tyrer, Ben (November 23, 2021). \"Here are all the Golden Joystick Awards 2021 winners\" (ht\n",
            "tps://www.gamesradar.com/golden-joystick-awards-2021-winners/). GamesRadar+. Archived\n",
            "(https://web.archive.org/web/20211124013113/https://www.gamesradar.com/golden-joystick-\n",
            "awards-2021-winners/) from the original on November 24, 2021. Retrieved December 19,\n",
            "2021.\n",
            "125. Loveridge, Sam (November 22, 2022). \"Here are all the Golden Joystick Awards 2022\n",
            "\n",
            "Morton, Lauren; Martin, Sean (December 30, 2022). \"Game of the Year 2022: Elden Ring\" (ht\n",
            "tps://www.pcgamer.com/game-of-the-year-2022-elden-ring/). PC Gamer. Archived (https://we\n",
            "b.archive.org/web/20230416095803/https://www.pcgamer.com/game-of-the-year-2022-elden\n",
            "-ring/) from the original on April 16, 2023. Retrieved December 31, 2022.\n",
            "105. \"The Best Game of 2022\" (https://www.polygon.com/what-to-play/22956981/best-games-202\n",
            "2-list). Polygon. March 2, 2022. Archived (https://web.archive.org/web/20230105054009/http\n",
            "s://www.polygon.com/what-to-play/22956981/best-games-2022-list) from the original on\n",
            "January 5, 2023. Retrieved December 14, 2022.\n",
            "106. Cryer, Hirun (January 3, 2023). \"Elden Ring surpasses The Last of Us 2 as the most-\n",
            "awarded Game of the Year recipient\" (https://www.gamesradar.com/elden-ring-surpasses-the\n",
            "-last-of-us-2-as-the-most-awarded-game-of-the-year-recipient/). gamesradar. Retrieved\n",
            "December 29, 2023.\n",
            "107. Jone, Ali (January 4, 2023). \"As Elden Ring beats The Last of Us 2's Game of the Year\n",
            "record, the two fan groups react in very different ways\" (https://www.gamesradar.com/as-elde\n",
            "n-ring-beats-the-last-of-us-2s-game-of-the-year-record-the-two-fan-groups-react-in-very-differ\n",
            "ent-ways/). gamesradar. Retrieved December 29, 2023.\n",
            "108. Howard, Jessica (March 2, 2023). \"God Of War Ragnarok And Stray Among Top Nominees\n",
            "On 2023 BAFTA Games Awards List\" (https://www.gamespot.com/articles/god-of-war-ragnar\n",
            "ok-and-stray-among-top-nominees-on-2023-bafta-games-awards-list/1100-6511970/).\n",
            "GameSpot. Archived (https://web.archive.org/web/20230302162733/https://www.gamespot.c\n",
            "om/articles/god-of-war-ragnarok-and-stray-among-top-nominees-on-2023-bafta-games-awar\n",
            "ds-list/1100-6511970/) from the original on March 2, 2023. Retrieved March 6, 2023.\n",
            "109. \"2023 BAFTA Games Awards: The Winners\" (https://www.bafta.org/games/awards/2023-no\n",
            "minations-winners). BAFTA. March 30, 2023. Archived (https://web.archive.org/web/2023040 </s>[INST] [INST] Answer the following question - Which awards did Elden Ring Win ?[/INST]\u001b[0m\n"
          ]
        }
      ],
      "source": [
        "rag.invoke(\"Which awards did Elden Ring Win ?\")"
      ]
    },
    {
      "cell_type": "code",
      "execution_count": null,
      "id": "65ba24b7-c21f-479c-86b0-a954eead4f7a",
      "metadata": {
        "id": "65ba24b7-c21f-479c-86b0-a954eead4f7a"
      },
      "outputs": [],
      "source": []
    }
  ],
  "metadata": {
    "kernelspec": {
      "display_name": "Python 3",
      "name": "python3"
    },
    "language_info": {
      "codemirror_mode": {
        "name": "ipython",
        "version": 3
      },
      "file_extension": ".py",
      "mimetype": "text/x-python",
      "name": "python",
      "nbconvert_exporter": "python",
      "pygments_lexer": "ipython3",
      "version": "3.10.12"
    },
    "colab": {
      "provenance": [],
      "gpuType": "A100"
    },
    "accelerator": "GPU"
  },
  "nbformat": 4,
  "nbformat_minor": 5
}